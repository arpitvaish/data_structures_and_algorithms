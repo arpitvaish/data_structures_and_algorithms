{
 "cells": [
  {
   "cell_type": "markdown",
   "metadata": {},
   "source": [
    "<font color='brown'> <h2> <center> Experiments on Priority Queue and Heap sort</center> </h2> </font>"
   ]
  },
  {
   "cell_type": "markdown",
   "metadata": {},
   "source": [
    "<font color='gray'> <h3> Description: </h3> </font>\n",
    "\n",
    "A priority queue, which is a variation on the standard queue. The standard queue is a collection of elements managed in First-in and First-out rule. The first element added to the collection is always the first element extracted; the second is second; so on and so on. Examples of queues include a queue at a movie ticket stand, queue for geting into bus. A priority queue is an abstract data structure, which acts like a normal queue. But each item has a special key to quantify its priority. For example, if the movie cinema decides to serve loyal customers first, it will order them by their loyalty (points or number of tickets purchased). In such a case, the queue for tickets will no longer be first-come-first-served, but most-loyal-first-served. The customers will be the items of this priority queue while the key (priority) will be their loyalty. \n"
   ]
  },
  {
   "cell_type": "markdown",
   "metadata": {},
   "source": [
    "<font color='gray'> <h3> The objectives of this exercise are: </h3> </font>\n",
    "- To see how the time taken to execute different types of functions changes with increasing number of elements. \n",
    "- To see how the calculated value for each type of equation changes for increasing counts of n"
   ]
  },
  {
   "cell_type": "code",
   "execution_count": 1,
   "metadata": {},
   "outputs": [
    {
     "name": "stdout",
     "output_type": "stream",
     "text": [
      "9 7 5 2 6 4\n",
      "9\n",
      "7\n",
      "6\n",
      "5\n",
      "4\n",
      "2\n"
     ]
    }
   ],
   "source": [
    "# A simple implementation of Priority Queue\n",
    "# using Queue.\n",
    "class PriorityQueue(object):\n",
    "\tdef __init__(self):\n",
    "\t\tself.queue = []\n",
    "\n",
    "\tdef __str__(self):\n",
    "\t\treturn ' '.join([str(i) for i in self.queue])\n",
    "\n",
    "\t# for checking if the queue is empty\n",
    "\tdef isEmpty(self):\n",
    "\t\treturn len(self.queue) == 0\n",
    "\n",
    "\t# for inserting an element in the queue\n",
    "\tdef insert(self, data):\n",
    "\t\tself.queue.append(data)\n",
    "\n",
    "\t# for popping an element based on Priority\n",
    "\tdef delete(self):\n",
    "\t\ttry:\n",
    "\t\t\tmax = 0\n",
    "\t\t\tfor i in range(len(self.queue)):\n",
    "\t\t\t\tif self.queue[i] > self.queue[max]:\n",
    "\t\t\t\t\tmax = i\n",
    "\t\t\titem = self.queue[max]\n",
    "\t\t\tdel self.queue[max]\n",
    "\t\t\treturn item\n",
    "\t\texcept IndexError:\n",
    "\t\t\tprint()\n",
    "\t\t\texit()\n",
    "\n",
    "if __name__ == '__main__':\n",
    "\tmyQueue = PriorityQueue()\n",
    "\tmyQueue.insert(9)\n",
    "\tmyQueue.insert(7)\n",
    "\tmyQueue.insert(5)\n",
    "\tmyQueue.insert(2)\n",
    "\tmyQueue.insert(6)\n",
    "\tmyQueue.insert(4)\n",
    "\tprint(myQueue)\t\t\t\n",
    "\twhile not myQueue.isEmpty():\n",
    "\t\tprint(myQueue.delete())\n"
   ]
  },
  {
   "cell_type": "code",
   "execution_count": 4,
   "metadata": {},
   "outputs": [
    {
     "name": "stdout",
     "output_type": "stream",
     "text": [
      "(1, 'Riya')\n",
      "(2, 'Harry')\n",
      "(3, 'Charles')\n",
      "(4, 'Stacy')\n"
     ]
    }
   ],
   "source": [
    "#Using a list\n",
    "# A very simple and straightforward way is to use the normal list but sort it every time an item is added. \n",
    "#Here’s an example:\n",
    "\n",
    "import heapq\n",
    "customers = []\n",
    "heapq.heappush(customers, (2, \"Harry\"))\n",
    "heapq.heappush(customers, (3, \"Charles\"))\n",
    "heapq.heappush(customers, (1, \"Riya\"))\n",
    "heapq.heappush(customers, (4, \"Stacy\"))\n",
    "while customers:\n",
    "    print(heapq.heappop(customers))"
   ]
  },
  {
   "cell_type": "markdown",
   "metadata": {},
   "source": [
    "<font color='gray'> <h3> Description: </h3> </font>\n",
    "\n",
    "A Max-Heap is a complete binary tree in which the value in each internal node is greater than or equal to the values in the children of that node. Mapping the elements of a heap into an array is trivial: if a node is stored a index k, then its left child is stored at index 2k + 1 and its right child at index 2k + 2. \n"
   ]
  },
  {
   "cell_type": "code",
   "execution_count": 22,
   "metadata": {},
   "outputs": [
    {
     "name": "stdout",
     "output_type": "stream",
     "text": [
      "The maxHeap is \n",
      "inserting element:  90\n",
      "inserting element:  20\n",
      "inserting element:  55\n",
      "inserting element:  19\n",
      "inserting element:  13\n",
      "inserting element:  17\n",
      "inserting element:  3\n",
      "inserting element:  6\n",
      "inserting element:  9\n",
      "inserting element:  12\n",
      "inserting element:  7\n",
      "inserting element:  10\n",
      " PARENT : 90 LEFT CHILD : 20 RIGHT CHILD : 55\n",
      " PARENT : 20 LEFT CHILD : 19 RIGHT CHILD : 13\n",
      " PARENT : 55 LEFT CHILD : 17 RIGHT CHILD : 3\n",
      " PARENT : 19 LEFT CHILD : 6 RIGHT CHILD : 9\n",
      " PARENT : 13 LEFT CHILD : 12 RIGHT CHILD : 7\n",
      " PARENT : 17 LEFT CHILD : 10 RIGHT CHILD : 0\n",
      "inserting new value\n",
      "inserting element:  95\n",
      "swapping -> 95 17\n",
      "swapping -> 95 55\n",
      "swapping -> 95 90\n",
      " PARENT : 95 LEFT CHILD : 20 RIGHT CHILD : 90\n",
      " PARENT : 20 LEFT CHILD : 19 RIGHT CHILD : 13\n",
      " PARENT : 90 LEFT CHILD : 55 RIGHT CHILD : 3\n",
      " PARENT : 19 LEFT CHILD : 6 RIGHT CHILD : 9\n",
      " PARENT : 13 LEFT CHILD : 12 RIGHT CHILD : 7\n",
      " PARENT : 55 LEFT CHILD : 10 RIGHT CHILD : 17\n",
      "swapping -> 17 90\n",
      "swapping -> 17 55\n",
      "The Max val is 95\n"
     ]
    }
   ],
   "source": [
    "# Python3 implementation of Max Heap\n",
    "import sys\n",
    "\n",
    "class MaxHeap:\n",
    "\n",
    "\tdef __init__(self, maxsize):\n",
    "\t\t\n",
    "\t\tself.maxsize = maxsize\n",
    "\t\tself.size = 0\n",
    "\t\tself.Heap = [0] * (self.maxsize + 1)\n",
    "\t\tself.Heap[0] = sys.maxsize\n",
    "\t\tself.FRONT = 1\n",
    "\n",
    "\t# Function to return the position of\n",
    "\t# parent for the node currently\n",
    "\t# at pos\n",
    "\tdef parent(self, pos):\n",
    "\t\t\n",
    "\t\treturn pos // 2\n",
    "\n",
    "\t# Function to return the position of\n",
    "\t# the left child for the node currently\n",
    "\t# at pos\n",
    "\tdef leftChild(self, pos):\n",
    "\t\t\n",
    "\t\treturn 2 * pos\n",
    "\n",
    "\t# Function to return the position of\n",
    "\t# the right child for the node currently\n",
    "\t# at pos\n",
    "\tdef rightChild(self, pos):\n",
    "\t\t\n",
    "\t\treturn (2 * pos) + 1\n",
    "\n",
    "\t# Function that returns true if the passed\n",
    "\t# node is a leaf node\n",
    "\tdef isLeaf(self, pos):\n",
    "\t\t\n",
    "\t\tif pos >= (self.size//2) and pos <= self.size:\n",
    "\t\t\treturn True\n",
    "\t\treturn False\n",
    "\n",
    "\t# Function to swap two nodes of the heap\n",
    "\tdef swap(self, fpos, spos):\n",
    "\t\tprint(\"swapping ->\", self.Heap[fpos],  self.Heap[spos])\n",
    "\t\tself.Heap[fpos], self.Heap[spos] = (self.Heap[spos] , self.Heap[fpos])\n",
    "\n",
    "\t# Function to heapify the node at pos\n",
    "\tdef maxHeapify(self, pos):\n",
    "\n",
    "\t\t# If the node is a non-leaf node and smaller\n",
    "\t\t# than any of its child\n",
    "\t\tif not self.isLeaf(pos):\n",
    "\t\t\tif (self.Heap[pos] < self.Heap[self.leftChild(pos)] or\n",
    "\t\t\t\tself.Heap[pos] < self.Heap[self.rightChild(pos)]):\n",
    "\n",
    "\t\t\t\t# Swap with the left child and heapify\n",
    "\t\t\t\t# the left child\n",
    "\t\t\t\tif (self.Heap[self.leftChild(pos)] >\n",
    "\t\t\t\t\tself.Heap[self.rightChild(pos)]):\n",
    "\t\t\t\t\tself.swap(pos, self.leftChild(pos))\n",
    "\t\t\t\t\tself.maxHeapify(self.leftChild(pos))\n",
    "\n",
    "\t\t\t\t# Swap with the right child and heapify\n",
    "\t\t\t\t# the right child\n",
    "\t\t\t\telse:\n",
    "\t\t\t\t\tself.swap(pos, self.rightChild(pos))\n",
    "\t\t\t\t\tself.maxHeapify(self.rightChild(pos))\n",
    "\n",
    "\t# Function to insert a node into the heap\n",
    "\tdef insert(self, element):\n",
    "\t\tprint(\"inserting element: \", element)\n",
    "\t\tif self.size >= self.maxsize:\n",
    "\t\t\treturn\n",
    "\t\tself.size += 1\n",
    "\t\tself.Heap[self.size] = element\n",
    "\n",
    "\t\tcurrent = self.size\n",
    "\n",
    "\t\twhile (self.Heap[current] >\n",
    "\t\t\tself.Heap[self.parent(current)]):\n",
    "\t\t\tself.swap(current, self.parent(current))\n",
    "\t\t\tcurrent = self.parent(current)\n",
    "\n",
    "\t# Function to print the contents of the heap\n",
    "\tdef Print(self):\n",
    "\t\t\n",
    "\t\tfor i in range(1, (self.size // 2) + 1):\n",
    "\t\t\tprint(\" PARENT : \" + str(self.Heap[i]) +\n",
    "\t\t\t\t\" LEFT CHILD : \" + str(self.Heap[2 * i]) +\n",
    "\t\t\t\t\" RIGHT CHILD : \" + str(self.Heap[2 * i + 1]))\n",
    "\n",
    "\t# Function to remove and return the maximum\n",
    "\t# element from the heap\n",
    "\tdef extractMax(self):\n",
    "\n",
    "\t\tpopped = self.Heap[self.FRONT]\n",
    "\t\tself.Heap[self.FRONT] = self.Heap[self.size]\n",
    "\t\tself.size -= 1\n",
    "\t\tself.maxHeapify(self.FRONT)\n",
    "\t\t\n",
    "\t\treturn popped\n",
    "\n",
    "# Driver Code\n",
    "if __name__ == \"__main__\":\n",
    "\t\n",
    "\tprint('The maxHeap is ')\n",
    "\t\n",
    "\tmaxHeap = MaxHeap(15)\n",
    "\tmaxHeap.insert(90)\n",
    "\tmaxHeap.insert(20)\n",
    "\tmaxHeap.insert(55)\n",
    "\tmaxHeap.insert(19)\n",
    "\tmaxHeap.insert(13)\n",
    "\tmaxHeap.insert(17)\n",
    "\tmaxHeap.insert(3)\n",
    "\tmaxHeap.insert(6)\n",
    "\tmaxHeap.insert(9)\n",
    "\tmaxHeap.insert(12)\n",
    "\tmaxHeap.insert(7)\n",
    "\tmaxHeap.insert(10)\n",
    "\tmaxHeap.Print()\n",
    "\tprint(\"inserting new value\")\n",
    "\tmaxHeap.insert(95)\n",
    "\tmaxHeap.Print()\n",
    "\tprint(\"The Max val is \" + str(maxHeap.extractMax()))\n"
   ]
  },
  {
   "cell_type": "code",
   "execution_count": 30,
   "metadata": {},
   "outputs": [
    {
     "name": "stdout",
     "output_type": "stream",
     "text": [
      "The created heap is : [-90, -20, -55, -19, -13, -17, -3, -6, -9, -12, -7, -10]\n",
      "The modified heap after push is : [-90, -20, -55, -19, -13, -17, -3, -6, -9, -12, -7, -10, -4]\n",
      "The popped and smallest element is : -90\n"
     ]
    }
   ],
   "source": [
    "# Python code to demonstrate working of\n",
    "# heapify(), heappush() and heappop()\n",
    "\n",
    "# importing \"heapq\" to implement heap queue\n",
    "import heapq\n",
    "\n",
    "# initializing list\n",
    "li = [-90, -20, -55, -19, -13, -17, -3, -6, -9, -12, -7, -10]\n",
    "\n",
    "# using heapify to convert list into heap\n",
    "heapq.heapify(li)\n",
    "#heapq._heapify_max(li)\n",
    "# printing created heap\n",
    "print (\"The created heap is : \",end=\"\")\n",
    "print (list(li))\n",
    "\n",
    "# using heappush() to push elements into heap\n",
    "# pushes 4\n",
    "heapq.heappush(li,-4)\n",
    "#heapq.\n",
    "\n",
    "\n",
    "# printing modified heap\n",
    "print (\"The modified heap after push is : \",end=\"\")\n",
    "print (list(li))\n",
    "\n",
    "# using heappop() to pop smallest element\n",
    "print (\"The popped and smallest element is : \",end=\"\")\n",
    "print (heapq.heappop(li))\n",
    "\n"
   ]
  },
  {
   "cell_type": "markdown",
   "metadata": {},
   "source": [
    "<font color='gray'> <h3> Exercises:</h3> </font> \n",
    "1. Construct min binary heap using the followingvalues 18, 2,13,10,15,3,7,16, 8. \n",
    "2. Describe, in English, an algorithm to find the largest element in a max binary heap. What is the asymptotic worst-case performance of your algorithm? \n",
    "3. Finding the minimum element in a min binary heap is O(1) in the worst case. Explain why this is so ?"
   ]
  },
  {
   "cell_type": "markdown",
   "metadata": {},
   "source": [
    "<font color='gray'> <h3> Summary:</h3> </font>  \n",
    "1. Through this lab exercise you have learnt how priority queue is different from normal queue.\n",
    "2. How to implement Heap. \n"
   ]
  },
  {
   "cell_type": "markdown",
   "metadata": {},
   "source": [
    "<b> Disclaimer <b> : Some of the contents of this Notebook is adopted from Data Structures and Algorithm Design by Michael T. Goodrich, Roberto Tamassia, Michael H. Goldwasser"
   ]
  }
 ],
 "metadata": {
  "kernelspec": {
   "display_name": "Python 3",
   "language": "python",
   "name": "python3"
  },
  "language_info": {
   "codemirror_mode": {
    "name": "ipython",
    "version": 3
   },
   "file_extension": ".py",
   "mimetype": "text/x-python",
   "name": "python",
   "nbconvert_exporter": "python",
   "pygments_lexer": "ipython3",
   "version": "3.8.8"
  }
 },
 "nbformat": 4,
 "nbformat_minor": 4
}
