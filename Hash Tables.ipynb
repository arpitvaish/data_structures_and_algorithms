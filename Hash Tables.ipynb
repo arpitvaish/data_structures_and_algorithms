{
 "cells": [
  {
   "cell_type": "markdown",
   "metadata": {},
   "source": [
    "<center> <img src =\"https://i.postimg.cc/1X8H7YYt/BITS-Logo.png\" width = \"400\" alt=\"BITS Pilani Logo\" /> </center>"
   ]
  },
  {
   "cell_type": "markdown",
   "metadata": {},
   "source": [
    "<font color='green'> <h1> <center>Data Structures and Algorithm Design - Practice Sheet 8 </center> </h1> </font>"
   ]
  },
  {
   "cell_type": "markdown",
   "metadata": {},
   "source": [
    "<font color='brown'> <h2> <center> Experiments on Hash Tables </center> </h2> </font>"
   ]
  },
  {
   "cell_type": "markdown",
   "metadata": {},
   "source": [
    "<font color='gray'> <h3> Description: </h3> </font>\n",
    "\n",
    "Hashing is a technique that is used to uniquely identify a specific object from a group of similar objects. Hash Table is a data structure which stores data in an associative manner. In a hash table, data is stored in an array format, where each data value has its own unique index value. Access of data becomes very fast if we know the index of the desired data"
   ]
  },
  {
   "cell_type": "markdown",
   "metadata": {},
   "source": [
    "<font color='gray'> <h3> The objectives of this exercise are: </h3> </font>\n",
    "- 1. To understand Hashing functions and how it works.\n",
    "- 2. To see in detail the notion of hashing , Operations in a hash table (insert , delete, search)\n"
   ]
  },
  {
   "cell_type": "markdown",
   "metadata": {},
   "source": [
    "<h3> Hash Table</h3> \n",
    "\n",
    "\n",
    "A hash table for a given key type consists of\n",
    " 1. A <b>Hash function</b> h\n",
    " 2. A <b>bucket array</b> A of size N, where each cell of A is thought of as a \"bucket\" and the            integer N defines the capacity of the array.\n",
    "\n",
    "\n",
    "One of the most efficient ways to implement a dictionary is to use a hash table.When implementing a dictionary with a hash table, the goal is to store item (k, e) at index i = h(k)\n",
    "\n",
    "### Hash Function\n",
    "\n",
    "A hash function h maps keys of a given type to integers in a fixed interval [0, N - 1]\n",
    "\n",
    "The two parts of a hash function h(k) :\n",
    "\n",
    " 1. Hash code ,      h1: keys--> integers ie. mapping key to an integer \n",
    " 2. Compression map, h2: integers --> [0->N-1]  ie (mapping the hash code to an integer within the         range of indices of a bucket array)\n",
    "\n",
    "\n",
    "So hash Function,h(x) = h2(h1(x))\n",
    "\n",
    "### Hash codes \n",
    " 1. Integer cast\n",
    " \n",
    " 2. Polynomial Hash Codes \n",
    " \n",
    " 3. Cyclic-Shift Hash Codes \n",
    " \n"
   ]
  },
  {
   "cell_type": "markdown",
   "metadata": {},
   "source": [
    "### 1. Integer cast\n",
    "\n",
    " We reinterpret the bits of the key as an integer\n"
   ]
  },
  {
   "cell_type": "code",
   "execution_count": 1,
   "metadata": {},
   "outputs": [
    {
     "name": "stdout",
     "output_type": "stream",
     "text": [
      "--------------------------\n",
      "Hash for 10 is : 10\n",
      "--------------------------\n",
      "Hash for 3.14 is: 322818021289917443\n"
     ]
    }
   ],
   "source": [
    "# Integer cast\n",
    "# For any data type X that is represented using at most as many bits as our integer hash codes, \n",
    "#we can simply take as a hash code for X an integer interpretation of its bits.\n",
    "\n",
    "val = 10\n",
    "print('--------------------------')\n",
    "print('Hash for 10 is :',val.__hash__()) \n",
    "\n",
    "#The hash code for a floating-point number could be based upon an interpretation of the bits of \n",
    "#the floating-point representation as an integer:Refer https://docs.python.org/3/library/stdtypes.html?highlight=hash\n",
    "\n",
    "# hash for decimal\n",
    "print('--------------------------')\n",
    "print('Hash for 3.14 is:',hash(3.14))"
   ]
  },
  {
   "cell_type": "markdown",
   "metadata": {},
   "source": [
    "### 2. Polynomial hash\n",
    "\n",
    "Choose a nonzero constant, a # 1 , and use as a hash code the value \n",
    "        xoak-i + x, ak-2 + · · · + xk-2a + xk- i , \n",
    "which, by Horner's rule  can be rewritten as \n",
    "        Xk- i + a(xk-2 + a(xk-3 + · · · + a(x2 + a(x, + axo) ) · · · )),\n",
    "which, mathematically speaking, is simply a polynomial in a that takes the components (xo , x1 , . . . , Xk- i ) of an object x as its coefficients.\n",
    "\n",
    "Polynomial hashing is mainly suitable for strings (e.g., the choice z = 33 gives at most 6 collisions on a set of 50 000 English words!)"
   ]
  },
  {
   "cell_type": "code",
   "execution_count": 2,
   "metadata": {},
   "outputs": [
    {
     "name": "stdout",
     "output_type": "stream",
     "text": [
      "Hash for python is: 8155220182343906505\n"
     ]
    }
   ],
   "source": [
    "# hash for string\n",
    "print('Hash for python is:',hash('python'))"
   ]
  },
  {
   "cell_type": "markdown",
   "metadata": {},
   "source": [
    "### 3. Cyclic-Shift Hash Codes\n",
    "\n",
    "A variant of the polynomial hash code replaces multiplication by a cyclic shift of a partial sum by a certain number of bits."
   ]
  },
  {
   "cell_type": "code",
   "execution_count": 3,
   "metadata": {},
   "outputs": [
    {
     "name": "stdout",
     "output_type": "stream",
     "text": [
      "Hash for python is: 3888885326\n"
     ]
    }
   ],
   "source": [
    "def hashcode(s):\n",
    "    mask = (1 << 32)- 1 # limit to 32-bit integers\n",
    "    h = 0\n",
    "    for character in s:\n",
    "        h = (h << 5 & mask) | (h >> 27) # 5-bit cyclic shift of running sum\n",
    "        h += ord(character) # add in value of next character\n",
    "    return h\n",
    "\n",
    "print('Hash for python is:',hashcode('python'))"
   ]
  },
  {
   "cell_type": "markdown",
   "metadata": {},
   "source": [
    "### Compression Maps\n",
    "\n",
    "The hash code for a key k will typically not be suitable for immediate use with a bucket array, because the range of possible hash codes for our keys will typically exceed the range of legal indices of our bucket array A. Once we have determined an integer hash code for a key object k, there is still the issue of mapping that integer into the range [0, N - 1 ] . This compression step is the second action that a hash function performs.\n",
    "\n",
    "### The Division Method\n",
    "\n",
    "h (k) = |k| mod N , If we take N to be a prime number, then the division compression map helps \"spread out\" the distribution of hashed values.\n",
    "\n"
   ]
  },
  {
   "cell_type": "code",
   "execution_count": 1,
   "metadata": {},
   "outputs": [
    {
     "name": "stdout",
     "output_type": "stream",
     "text": [
      "2\n"
     ]
    }
   ],
   "source": [
    "# Hash function using Division method\n",
    "\n",
    "#Create an empty hashtable of size 11\n",
    "hashTable = [None] * 11\n",
    "\n",
    "#A hash function where h (k) = |k| mod N \n",
    "def hashingFunc(key):\n",
    "    return key % len(hashTable)\n",
    "print (hashingFunc(10012))"
   ]
  },
  {
   "cell_type": "markdown",
   "metadata": {},
   "source": [
    "### The MAD Method\n",
    "\n",
    "In Multiply Add and Divide (or \"MAD\") method the compression function is defined as\n",
    "h (k) = |ak + b| mod N, where N is a prime number, and a and b are nonnegative integers randomly chosen\n",
    "at the time the compression function is determined so that a mod N # 0."
   ]
  },
  {
   "cell_type": "code",
   "execution_count": 5,
   "metadata": {},
   "outputs": [
    {
     "name": "stdout",
     "output_type": "stream",
     "text": [
      "7\n"
     ]
    }
   ],
   "source": [
    "# Hash function using MAD method\n",
    "\n",
    "#Create an empty hashtable of size 11\n",
    "hashTable = [None] * 11\n",
    "\n",
    "#A hash function where h (k) = |ak + b| mod N \n",
    "def hashingFunc(key):\n",
    "    return (2*key+5) % len(hashTable)\n",
    "print (hashingFunc(100))"
   ]
  },
  {
   "cell_type": "markdown",
   "metadata": {},
   "source": [
    "### Hashing concept in Python\n",
    "\n",
    "An object is hashable if it has a hash value which never changes during its lifetime. (It can have different values during multiple invocations of Python programs.) A hashable object needs a __hash__() method. In order to perform comparisons, a hashable needs an __eq__() method. "
   ]
  },
  {
   "cell_type": "code",
   "execution_count": 6,
   "metadata": {},
   "outputs": [
    {
     "name": "stdout",
     "output_type": "stream",
     "text": [
      "--------------------------\n",
      "custom objects hashing\n",
      "--------------------------\n",
      "hash of student 1\n",
      "152140143294\n",
      "Id of student 1\n",
      "2434242292704\n",
      "hash of student 2\n",
      "152140143280\n",
      "2434242292480\n",
      "Different students\n"
     ]
    }
   ],
   "source": [
    "# Lets see an example to understand the behaviour of hash() method in python on custom objects.\n",
    "# Objects which are instances of user-defined classes are hashable by default. \n",
    "#The hash() function returns the hash value of the object. The default implementation is derived from \n",
    "#the Id of the object.\n",
    "#Even though the user details are the same, the comparison yields different objects. \n",
    "print('--------------------------')\n",
    "print('custom objects hashing')\n",
    "print('--------------------------')\n",
    "class Student:\n",
    "\n",
    "    def __init__(self, name, course):\n",
    "        self.name = name\n",
    "        self.course = course\n",
    "\n",
    "s1 = Student('Joe Phillip', 'DSAD')\n",
    "s2 = Student('Joe Phillip', 'DSAD')\n",
    "\n",
    "print('hash of student 1')\n",
    "print(hash(s1))\n",
    "print('Id of student 1')\n",
    "print(id(s1))\n",
    "print('hash of student 2')\n",
    "print(hash(s2))\n",
    "print(id(s2))\n",
    "\n",
    "if (s1 == s2):\n",
    "    print('Same student')   \n",
    "else:\n",
    "    print('Different students')\n",
    "\n",
    "\n"
   ]
  },
  {
   "cell_type": "markdown",
   "metadata": {},
   "source": [
    "In the above example we saw that even though the user details are the same, the comparison using (==) yields different objects. To change this, we need to implement the __eq__() method. "
   ]
  },
  {
   "cell_type": "code",
   "execution_count": 7,
   "metadata": {},
   "outputs": [
    {
     "name": "stdout",
     "output_type": "stream",
     "text": [
      "------------------------------------------\n",
      "Implementation of a custom __eq__() method\n",
      "-------------------------------------------\n",
      "Same student\n",
      "Joe Phillip DSAD\n",
      "Joe Phillip DSAD\n"
     ]
    }
   ],
   "source": [
    "#Implementation of a custom __eq__() method. \n",
    "print('------------------------------------------')\n",
    "print('Implementation of a custom __eq__() method')\n",
    "print('-------------------------------------------')\n",
    "\n",
    "class Student:\n",
    "\n",
    "    def __init__(self, name, course):\n",
    "        self.name = name\n",
    "        self.course = course\n",
    "\n",
    "    def __eq__(self, other):\n",
    "\n",
    "        return self.name == other.name \\\n",
    "            and self.course == other.course\n",
    "\n",
    "    def __str__(self):\n",
    "        return f'{self.name} {self.course}'\n",
    "\n",
    "\n",
    "s1 = Student('Joe Phillip', 'DSAD')\n",
    "s2 = Student('Joe Phillip', 'DSAD')\n",
    "\n",
    "if (s1 == s2):\n",
    "    print('Same student')\n",
    "    print(s1.name,s1.course)\n",
    "    print(s2.name,s2.course)\n",
    "else:\n",
    "    print('Different students')\n",
    "    print(s1.name,s1.course)\n",
    "    print(s2.name,s2.course)\n",
    "    \n"
   ]
  },
  {
   "cell_type": "markdown",
   "metadata": {},
   "source": [
    "Though the comparison yields the expected output , we cannot  still insert the objects into a Python set. In order to make this possible without a TypeError: unhashable type: 'Student', we implement the __hash__() method. "
   ]
  },
  {
   "cell_type": "code",
   "execution_count": 8,
   "metadata": {},
   "outputs": [
    {
     "name": "stdout",
     "output_type": "stream",
     "text": [
      "---------------------------------------------------------\n",
      "Implementation of the __eq__() and the __hash__() methods\n",
      "---------------------------------------------------------\n",
      "Length of users set : 1\n",
      "Same student\n",
      "Joe Phillip DSAD\n",
      "Joe Phillip DSAD\n",
      "------------------------------------\n",
      "Length of users set : 2\n",
      "Different students\n",
      "Joe Phillip AI\n",
      "Joe Phillip DSAD\n"
     ]
    }
   ],
   "source": [
    "#implementation of the __eq__() and the __hash__() methods. \n",
    "print('---------------------------------------------------------')\n",
    "print('Implementation of the __eq__() and the __hash__() methods')\n",
    "print('---------------------------------------------------------')\n",
    "\n",
    "class Student:\n",
    "\n",
    "    def __init__(self, name, course):\n",
    "        self.name = name\n",
    "        self.course = course\n",
    "\n",
    "    def __eq__(self, other):\n",
    "\n",
    "        return self.name == other.name \\\n",
    "            and self.course == other.course\n",
    "\n",
    "    def __hash__(self):\n",
    "        return hash((self.name, self.course))\n",
    "\n",
    "    def __str__(self):\n",
    "        return f'{self.name} {self.course}'\n",
    "\n",
    "\n",
    "s1 = Student('Joe Phillip', 'DSAD')\n",
    "s2 = Student('Joe Phillip', 'DSAD')\n",
    "\n",
    "students = {s1, s2}\n",
    "\n",
    "print('Length of users set :',len(students))\n",
    "\n",
    "if (s1 == s2):\n",
    "    print('Same student')\n",
    "    print(s1.name,s1.course)\n",
    "    print(s2.name,s2.course)\n",
    "else:\n",
    "    print('Different students')\n",
    "\n",
    "print('------------------------------------')\n",
    "\n",
    "s1.course = 'AI'\n",
    "\n",
    "users = {s1, s2}\n",
    "\n",
    "print('Length of users set :',len(users))\n",
    "\n",
    "if (s1 == s2):\n",
    "    print('Same student')    \n",
    "    print(s1.name,s1.course)\n",
    "    print(s2.name,s2.course)\n",
    "else:\n",
    "    print('Different students')\n",
    "    print(s1.name,s1.course)\n",
    "    print(s2.name,s2.course)\n",
    "    "
   ]
  },
  {
   "cell_type": "markdown",
   "metadata": {},
   "source": [
    "### Hash Table - Basic Operations\n",
    "\n",
    "Following are the basic primary operations of a hash table.\n",
    "\n",
    "1. Insert − inserts an element into a hash table.\n",
    "\n",
    "2. Search − Searches an element in a hash table.\n",
    "\n",
    "3. Delete − Deletes an element from a hash table."
   ]
  },
  {
   "cell_type": "markdown",
   "metadata": {},
   "source": [
    "### Insertion"
   ]
  },
  {
   "cell_type": "code",
   "execution_count": 9,
   "metadata": {},
   "outputs": [
    {
     "name": "stdout",
     "output_type": "stream",
     "text": [
      "[[], [(101, 'Joseph')], [(102, 'Mary')], [(103, 'John')], [], [], [], [], [], []]\n"
     ]
    }
   ],
   "source": [
    "#Insert data into Hash Table\n",
    "\n",
    "#Creating a hash table as a nested list.\n",
    "hashTable = [[] for _ in range(10)]\n",
    "\n",
    "#Insert function\n",
    "def insertData(hash_table, key, value):\n",
    "    hash_key = hash(key) % len(hash_table)\n",
    "    key_exists = False\n",
    "    slot = hash_table[hash_key]\t\n",
    "    for i, keyVal in enumerate(slot):\n",
    "        temp = keyVal\n",
    "        if key == temp:\n",
    "         key_exists = True \n",
    "         break\n",
    "    if key_exists:\n",
    "     slot[i] = ((key, value))\n",
    "    else:\n",
    "         slot.append((key, value))\n",
    "insertData(hashTable, 101, 'Joseph')\n",
    "insertData(hashTable, 102, 'Mary')\n",
    "insertData(hashTable, 103, 'John')\n",
    "print (hashTable)"
   ]
  },
  {
   "cell_type": "markdown",
   "metadata": {},
   "source": [
    "### Search data from Hash Table"
   ]
  },
  {
   "cell_type": "code",
   "execution_count": 10,
   "metadata": {},
   "outputs": [
    {
     "name": "stdout",
     "output_type": "stream",
     "text": [
      "The value in key 101 is Joseph\n",
      "The value in key 120 is None\n"
     ]
    }
   ],
   "source": [
    "#Search data from Hash Table\n",
    "\n",
    "#Creating a hash table as a nested list.\n",
    "hashTable = [[], [(101, 'Joseph')], [(102, 'Mary')], [(103, 'John')], [], [], [], [], [], []]\n",
    "\n",
    "#Search function\n",
    "def searchData(hash_table, key):\n",
    "    hash_key = hash(key) % len(hash_table)\t\n",
    "    slot = hash_table[hash_key]\n",
    "    for i, keyVal in enumerate(slot):\n",
    "        keyVal, val = keyVal\n",
    "        if key == keyVal:\n",
    "            return val\n",
    "findVar=101\n",
    "print (\"The value in key \"+str(findVar)+\" is \"+str(searchData(hashTable, findVar))) \n",
    "findVar=120\n",
    "print (\"The value in key \"+str(findVar)+\" is \"+str(searchData(hashTable, 120)))"
   ]
  },
  {
   "cell_type": "markdown",
   "metadata": {},
   "source": [
    "### Deletion"
   ]
  },
  {
   "cell_type": "code",
   "execution_count": 11,
   "metadata": {},
   "outputs": [
    {
     "name": "stdout",
     "output_type": "stream",
     "text": [
      "Before Deletion ...\n",
      "[[], [(101, 'Joseph')], [(102, 'Mary')], [(103, 'John')], [], [], [], [], [], []]\n",
      "Key 101 deleted\n",
      "After Deletion ...\n",
      "[[], [], [(102, 'Mary')], [(103, 'John')], [], [], [], [], [], []]\n"
     ]
    }
   ],
   "source": [
    "#Delete Data from the Hash Table\n",
    "\n",
    "#Creating a hash table as a nested list.\n",
    "hashTable = [[], [(101, 'Joseph')], [(102, 'Mary')], [(103, 'John')], [], [], [], [], [], []]\n",
    "\n",
    "#Delete function\n",
    "def delete(hash_table, key):\n",
    "    hash_key = hash(key) % len(hash_table)\t\n",
    "    key_exists = False\n",
    "    slot = hash_table[hash_key]\n",
    "    for i, keyVal in enumerate(slot):\n",
    "        keyVal, value = keyVal \n",
    "        if key == keyVal:\n",
    "            key_exists = True \n",
    "            break\n",
    "    if key_exists:\n",
    "        del slot[i]\n",
    "        print ('Key {} deleted'.format(key))\n",
    "    else:\n",
    "        print ('Key {} not found'.format(key))\n",
    "\n",
    "print ('Before Deletion ...')\n",
    "print (hashTable)\n",
    "delete(hashTable, 101)\n",
    "print ('After Deletion ...')\n",
    "print (hashTable)"
   ]
  },
  {
   "cell_type": "markdown",
   "metadata": {},
   "source": [
    "<font color='gray'> <h3> Exercises:</h3> </font> \n",
    "- 1. Implement the hash table basic operations using\n",
    "            a)Polynomial hashcodes \n",
    "            b)Cyclic shift hash codes     "
   ]
  },
  {
   "cell_type": "markdown",
   "metadata": {},
   "source": [
    "<font color='gray'> <h3> Summary:</h3> </font>  \n",
    "    1. Through this lab exercise you have learnt the implementation of hash table and its operations.  \n",
    "    2. The purpose of hashing is to achieve search, insert and delete complexity to O(1).    \n",
    "           \n"
   ]
  },
  {
   "cell_type": "markdown",
   "metadata": {},
   "source": [
    "For queries on this practice sheet, please contact deepthi.m@wilp.bits-pilani.ac.in"
   ]
  },
  {
   "cell_type": "markdown",
   "metadata": {},
   "source": [
    "<b> Disclaimer <b> : Some of the contents of this Notebook is adopted from Data Structures and Algorithm Design by Michael T. Goodrich, Roberto Tamassia, Michael H. Goldwasser"
   ]
  }
 ],
 "metadata": {
  "kernelspec": {
   "display_name": "Python 3",
   "language": "python",
   "name": "python3"
  },
  "language_info": {
   "codemirror_mode": {
    "name": "ipython",
    "version": 3
   },
   "file_extension": ".py",
   "mimetype": "text/x-python",
   "name": "python",
   "nbconvert_exporter": "python",
   "pygments_lexer": "ipython3",
   "version": "3.8.8"
  }
 },
 "nbformat": 4,
 "nbformat_minor": 4
}
